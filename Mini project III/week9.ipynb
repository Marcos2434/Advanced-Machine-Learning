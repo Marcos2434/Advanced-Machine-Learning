{
 "cells": [
  {
   "cell_type": "code",
   "execution_count": 17,
   "id": "a88db88b",
   "metadata": {},
   "outputs": [],
   "source": [
    "import torch\n",
    "from tqdm import tqdm"
   ]
  },
  {
   "cell_type": "code",
   "execution_count": 18,
   "id": "80c4985e",
   "metadata": {},
   "outputs": [],
   "source": [
    "device = 'cpu'"
   ]
  },
  {
   "cell_type": "code",
   "execution_count": 19,
   "id": "c8f75b0b",
   "metadata": {},
   "outputs": [
    {
     "name": "stdout",
     "output_type": "stream",
     "text": [
      "tensor([[0., 0., 0.,  ..., 1., 0., 1.],\n",
      "        [0., 0., 0.,  ..., 0., 0., 0.],\n",
      "        [0., 0., 0.,  ..., 0., 0., 0.],\n",
      "        ...,\n",
      "        [1., 0., 0.,  ..., 0., 0., 0.],\n",
      "        [0., 0., 0.,  ..., 0., 0., 1.],\n",
      "        [1., 0., 0.,  ..., 0., 1., 0.]])\n",
      "19900\n",
      "tensor([[  0,   0,   0,  ..., 197, 197, 198],\n",
      "        [  1,   2,   3,  ..., 198, 199, 199]]) torch.Size([2, 19900])\n",
      "tensor([0., 0., 1.,  ..., 0., 0., 1.]) torch.Size([19900])\n"
     ]
    },
    {
     "name": "stderr",
     "output_type": "stream",
     "text": [
      "/var/folders/nb/bcl7qtp16rv9lpgrryc9q4c00000gn/T/ipykernel_265/3880998372.py:4: FutureWarning: You are using `torch.load` with `weights_only=False` (the current default value), which uses the default pickle module implicitly. It is possible to construct malicious pickle data which will execute arbitrary code during unpickling (See https://github.com/pytorch/pytorch/blob/main/SECURITY.md#untrusted-models for more details). In a future release, the default value for `weights_only` will be flipped to `True`. This limits the functions that could be executed during unpickling. Arbitrary objects will no longer be allowed to be loaded via this mode unless they are explicitly allowlisted by the user via `torch.serialization.add_safe_globals`. We recommend you start setting `weights_only=True` for any use case where you don't have full control of the loaded file. Please open an issue on GitHub for any issues related to this experimental feature.\n",
      "  A = torch.load('data.pt')\n"
     ]
    }
   ],
   "source": [
    "# Load graph data\n",
    "\n",
    "# Load graph from file\n",
    "A = torch.load('data.pt')\n",
    "\n",
    "# Get number of nodes\n",
    "n_nodes = A.shape[0]\n",
    "\n",
    "# Number of un-ordered node pairs (possible links)\n",
    "n_pairs = n_nodes*(n_nodes-1)//2\n",
    "\n",
    "# Get indices of all un-ordered node pairs excluding self-links (shape: 2 x n_pairs)\n",
    "idx_all_pairs = torch.triu_indices(n_nodes,n_nodes,1)\n",
    "\n",
    "# Collect all links/non-links in a list (shape: n_pairs)\n",
    "target = A[idx_all_pairs[0],idx_all_pairs[1]]\n",
    "\n",
    "print(A)\n",
    "print(n_pairs)\n",
    "print(idx_all_pairs, idx_all_pairs.shape)\n",
    "print(target, target.shape)"
   ]
  },
  {
   "cell_type": "code",
   "execution_count": 20,
   "id": "3adbae19",
   "metadata": {},
   "outputs": [],
   "source": [
    "idx_train = torch.rand(n_pairs) < 0.8\n",
    "idx_validation = torch.logical_not(idx_train)"
   ]
  },
  {
   "cell_type": "code",
   "execution_count": null,
   "id": "54beeeba",
   "metadata": {},
   "outputs": [],
   "source": [
    "# Shallow node embedding\n",
    "class Shallow(torch.nn.Module):\n",
    "    '''Shallow node embedding\n",
    "\n",
    "    Args: \n",
    "        n_nodes (int): Number of nodes in the graph\n",
    "        embedding_dim (int): Dimension of the embedding\n",
    "    '''\n",
    "    def __init__(self, n_nodes, embedding_dim):\n",
    "        super().__init__()\n",
    "        self.embedding = torch.nn.Embedding(n_nodes, embedding_dim=embedding_dim)\n",
    "        self.bias = torch.nn.Parameter(torch.tensor([0.]))\n",
    "\n",
    "    def forward(self, rx, tx):\n",
    "        '''Returns the probability of a links between nodes in lists rx and tx'''\n",
    "        # rx and tx are lists of node indices (shape: n_pairs)\n",
    "        # in the training loop you can see how the they are the pairs of all nodes (in training or other set).\n",
    "        # the model then returns the probability of a link between the nodes in rx and tx, which is its ouput\n",
    "        # i.e. sigma(embedding(z_u)*embedding(z_v) + bias)\n",
    "        \n",
    "        # Get the embedding of the nodes\n",
    "        return torch.sigmoid((self.embedding.weight[rx]*self.embedding.weight[tx]).sum(1) + self.bias)\n",
    "\n",
    "# Embedding dimension\n",
    "embedding_dim = 2\n",
    "\n",
    "# Instantiate the model                \n",
    "model = Shallow(n_nodes, embedding_dim)\n",
    "\n",
    "# Optimizer\n",
    "optimizer = torch.optim.Adam(model.parameters(), lr=1e-2)\n",
    "\n",
    "# Loss function\n",
    "cross_entropy = torch.nn.BCELoss()"
   ]
  },
  {
   "cell_type": "code",
   "execution_count": 22,
   "id": "ecb104f4",
   "metadata": {},
   "outputs": [
    {
     "name": "stderr",
     "output_type": "stream",
     "text": [
      "Loss = 0.413: 100%|██████████| 1000/1000 [00:02<00:00, 493.91it/s]\n"
     ]
    }
   ],
   "source": [
    "# Fit the model\n",
    "# Number of gradient steps\n",
    "max_step = 1000\n",
    "\n",
    "# Optimization loop\n",
    "for i in (progress_bar := tqdm(range(max_step))):    \n",
    "    # Compute probability of each possible link\n",
    "    link_probability = model(idx_all_pairs[0, idx_train], idx_all_pairs[1, idx_train])\n",
    "\n",
    "    # Cross entropy loss\n",
    "    loss = cross_entropy(link_probability, target[idx_train])\n",
    "\n",
    "    # Gradient step\n",
    "    optimizer.zero_grad()\n",
    "    loss.backward()\n",
    "    optimizer.step()\n",
    "\n",
    "    # Display loss on progress bar\n",
    "    progress_bar.set_description(f'Loss = {loss.item():.3f}')"
   ]
  },
  {
   "cell_type": "code",
   "execution_count": 23,
   "id": "624d4fbe",
   "metadata": {},
   "outputs": [
    {
     "name": "stdout",
     "output_type": "stream",
     "text": [
      "Validation loss = 0.450\n"
     ]
    }
   ],
   "source": [
    "# Compute validation error\n",
    "link_probability = model(idx_all_pairs[0, idx_validation], idx_all_pairs[1, idx_validation])\n",
    "loss = cross_entropy(link_probability, target[idx_validation])\n",
    "print(f'Validation loss = {loss.item():.3f}')"
   ]
  },
  {
   "cell_type": "code",
   "execution_count": 24,
   "id": "c95c3583",
   "metadata": {},
   "outputs": [],
   "source": [
    "# Save final estimated link probabilities\n",
    "link_probability = model(idx_all_pairs[0], idx_all_pairs[1])\n",
    "torch.save(link_probability, 'link_probability.pt')"
   ]
  }
 ],
 "metadata": {
  "kernelspec": {
   "display_name": "Python 3",
   "language": "python",
   "name": "python3"
  },
  "language_info": {
   "codemirror_mode": {
    "name": "ipython",
    "version": 3
   },
   "file_extension": ".py",
   "mimetype": "text/x-python",
   "name": "python",
   "nbconvert_exporter": "python",
   "pygments_lexer": "ipython3",
   "version": "3.12.7"
  }
 },
 "nbformat": 4,
 "nbformat_minor": 5
}
